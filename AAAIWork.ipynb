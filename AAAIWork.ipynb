{
  "nbformat": 4,
  "nbformat_minor": 0,
  "metadata": {
    "colab": {
      "name": "AAAIWork.ipynb",
      "provenance": [],
      "collapsed_sections": [],
      "authorship_tag": "ABX9TyPEQJKuTjuNxVOtYUjNEnqu",
      "include_colab_link": true
    },
    "kernelspec": {
      "name": "python3",
      "display_name": "Python 3"
    },
    "language_info": {
      "name": "python"
    }
  },
  "cells": [
    {
      "cell_type": "markdown",
      "metadata": {
        "id": "view-in-github",
        "colab_type": "text"
      },
      "source": [
        "<a href=\"https://colab.research.google.com/github/skochar1/Fair-Clustering-Unsupervised-Learning/blob/main/AAAIWork.ipynb\" target=\"_parent\"><img src=\"https://colab.research.google.com/assets/colab-badge.svg\" alt=\"Open In Colab\"/></a>"
      ]
    },
    {
      "cell_type": "markdown",
      "source": [
        "# Section I: Setting up the Adult Data"
      ],
      "metadata": {
        "id": "VbTMES4WUFP8"
      }
    },
    {
      "cell_type": "code",
      "execution_count": null,
      "metadata": {
        "colab": {
          "base_uri": "https://localhost:8080/"
        },
        "id": "qBCMHZXfQviI",
        "outputId": "820f4f2d-67af-4315-ad3c-bf8de8162dae"
      },
      "outputs": [
        {
          "output_type": "stream",
          "name": "stdout",
          "text": [
            "Requirement already satisfied: kaggle in /usr/local/lib/python3.7/dist-packages (1.5.12)\n",
            "Requirement already satisfied: urllib3 in /usr/local/lib/python3.7/dist-packages (from kaggle) (1.24.3)\n",
            "Requirement already satisfied: python-slugify in /usr/local/lib/python3.7/dist-packages (from kaggle) (6.1.2)\n",
            "Requirement already satisfied: tqdm in /usr/local/lib/python3.7/dist-packages (from kaggle) (4.64.0)\n",
            "Requirement already satisfied: requests in /usr/local/lib/python3.7/dist-packages (from kaggle) (2.23.0)\n",
            "Requirement already satisfied: python-dateutil in /usr/local/lib/python3.7/dist-packages (from kaggle) (2.8.2)\n",
            "Requirement already satisfied: six>=1.10 in /usr/local/lib/python3.7/dist-packages (from kaggle) (1.15.0)\n",
            "Requirement already satisfied: certifi in /usr/local/lib/python3.7/dist-packages (from kaggle) (2021.10.8)\n",
            "Requirement already satisfied: text-unidecode>=1.3 in /usr/local/lib/python3.7/dist-packages (from python-slugify->kaggle) (1.3)\n",
            "Requirement already satisfied: chardet<4,>=3.0.2 in /usr/local/lib/python3.7/dist-packages (from requests->kaggle) (3.0.4)\n",
            "Requirement already satisfied: idna<3,>=2.5 in /usr/local/lib/python3.7/dist-packages (from requests->kaggle) (2.10)\n"
          ]
        }
      ],
      "source": [
        "! pip install kaggle --upgrade"
      ]
    },
    {
      "cell_type": "code",
      "source": [
        "! mkdir ~/.kaggle/"
      ],
      "metadata": {
        "id": "ZjIvtkaxQ_02"
      },
      "execution_count": null,
      "outputs": []
    },
    {
      "cell_type": "code",
      "source": [
        "! cp kaggle.json ~/.kaggle/"
      ],
      "metadata": {
        "id": "zAL8vLueRDvf"
      },
      "execution_count": null,
      "outputs": []
    },
    {
      "cell_type": "code",
      "source": [
        "! chmod 600 /root/.kaggle/kaggle.json"
      ],
      "metadata": {
        "id": "CdJOd6jXSVKw"
      },
      "execution_count": null,
      "outputs": []
    },
    {
      "cell_type": "code",
      "source": [
        "! kaggle datasets download -d wenruliu/adult-income-dataset"
      ],
      "metadata": {
        "colab": {
          "base_uri": "https://localhost:8080/"
        },
        "id": "eCWLhU8fSG7n",
        "outputId": "62503a90-4ee1-44f3-8c96-37218f5b2733"
      },
      "execution_count": null,
      "outputs": [
        {
          "output_type": "stream",
          "name": "stdout",
          "text": [
            "Downloading adult-income-dataset.zip to /content\n",
            "\r  0% 0.00/652k [00:00<?, ?B/s]\n",
            "\r100% 652k/652k [00:00<00:00, 105MB/s]\n"
          ]
        }
      ]
    },
    {
      "cell_type": "code",
      "source": [
        "! mkdir dataset"
      ],
      "metadata": {
        "id": "a5yIc0FsSiOB"
      },
      "execution_count": null,
      "outputs": []
    },
    {
      "cell_type": "code",
      "source": [
        "! unzip adult-income-dataset.zip -d dataset"
      ],
      "metadata": {
        "colab": {
          "base_uri": "https://localhost:8080/"
        },
        "id": "jThSar1_Sljr",
        "outputId": "333aa243-84d7-4430-aeae-91c439f3ee58"
      },
      "execution_count": null,
      "outputs": [
        {
          "output_type": "stream",
          "name": "stdout",
          "text": [
            "Archive:  adult-income-dataset.zip\n",
            "  inflating: dataset/adult.csv       \n"
          ]
        }
      ]
    },
    {
      "cell_type": "code",
      "source": [
        "! ls dataset/"
      ],
      "metadata": {
        "colab": {
          "base_uri": "https://localhost:8080/"
        },
        "id": "u4AUiXDmTGAT",
        "outputId": "9c495050-db15-4ba8-d4db-dd155e89dbc7"
      },
      "execution_count": null,
      "outputs": [
        {
          "output_type": "stream",
          "name": "stdout",
          "text": [
            "adult.csv\n"
          ]
        }
      ]
    },
    {
      "cell_type": "code",
      "source": [
        "import matplotlib.pyplot as plt\n",
        "import numpy as np\n",
        "import csv\n",
        "import pandas as pd"
      ],
      "metadata": {
        "id": "Mqmqp8b3TWrn"
      },
      "execution_count": null,
      "outputs": []
    },
    {
      "cell_type": "code",
      "source": [
        "np.random.seed(42)\n",
        "\n",
        "df = pd.read_csv('dataset/adult.csv')\n",
        "df = df.sample(frac = 1) # shuffle df rows"
      ],
      "metadata": {
        "id": "-T_gGyvITYHJ"
      },
      "execution_count": null,
      "outputs": []
    },
    {
      "cell_type": "code",
      "source": [
        "df.head()"
      ],
      "metadata": {
        "colab": {
          "base_uri": "https://localhost:8080/",
          "height": 371
        },
        "id": "6qvOG3mAT0vQ",
        "outputId": "ecc8506a-9dd6-48ae-ae09-6540daa21c80"
      },
      "execution_count": null,
      "outputs": [
        {
          "output_type": "execute_result",
          "data": {
            "text/plain": [
              "       age workclass  fnlwgt  education  educational-num      marital-status  \\\n",
              "7762    56   Private   33115    HS-grad                9            Divorced   \n",
              "23881   25   Private  112847    HS-grad                9  Married-civ-spouse   \n",
              "30507   43   Private  170525  Bachelors               13            Divorced   \n",
              "28911   32   Private  186788    HS-grad                9  Married-civ-spouse   \n",
              "19484   39   Private  277886  Bachelors               13  Married-civ-spouse   \n",
              "\n",
              "             occupation   relationship   race  gender  capital-gain  \\\n",
              "7762      Other-service      Unmarried  White  Female             0   \n",
              "23881  Transport-moving      Own-child  Other    Male             0   \n",
              "30507    Prof-specialty  Not-in-family  White  Female         14344   \n",
              "28911  Transport-moving        Husband  White    Male             0   \n",
              "19484             Sales           Wife  White  Female             0   \n",
              "\n",
              "       capital-loss  hours-per-week native-country income  \n",
              "7762              0              40  United-States  <=50K  \n",
              "23881             0              40  United-States  <=50K  \n",
              "30507             0              40  United-States   >50K  \n",
              "28911             0              40  United-States  <=50K  \n",
              "19484             0              30  United-States  <=50K  "
            ],
            "text/html": [
              "\n",
              "  <div id=\"df-c15e14b0-d621-4f34-8891-dd91a2cb0f52\">\n",
              "    <div class=\"colab-df-container\">\n",
              "      <div>\n",
              "<style scoped>\n",
              "    .dataframe tbody tr th:only-of-type {\n",
              "        vertical-align: middle;\n",
              "    }\n",
              "\n",
              "    .dataframe tbody tr th {\n",
              "        vertical-align: top;\n",
              "    }\n",
              "\n",
              "    .dataframe thead th {\n",
              "        text-align: right;\n",
              "    }\n",
              "</style>\n",
              "<table border=\"1\" class=\"dataframe\">\n",
              "  <thead>\n",
              "    <tr style=\"text-align: right;\">\n",
              "      <th></th>\n",
              "      <th>age</th>\n",
              "      <th>workclass</th>\n",
              "      <th>fnlwgt</th>\n",
              "      <th>education</th>\n",
              "      <th>educational-num</th>\n",
              "      <th>marital-status</th>\n",
              "      <th>occupation</th>\n",
              "      <th>relationship</th>\n",
              "      <th>race</th>\n",
              "      <th>gender</th>\n",
              "      <th>capital-gain</th>\n",
              "      <th>capital-loss</th>\n",
              "      <th>hours-per-week</th>\n",
              "      <th>native-country</th>\n",
              "      <th>income</th>\n",
              "    </tr>\n",
              "  </thead>\n",
              "  <tbody>\n",
              "    <tr>\n",
              "      <th>7762</th>\n",
              "      <td>56</td>\n",
              "      <td>Private</td>\n",
              "      <td>33115</td>\n",
              "      <td>HS-grad</td>\n",
              "      <td>9</td>\n",
              "      <td>Divorced</td>\n",
              "      <td>Other-service</td>\n",
              "      <td>Unmarried</td>\n",
              "      <td>White</td>\n",
              "      <td>Female</td>\n",
              "      <td>0</td>\n",
              "      <td>0</td>\n",
              "      <td>40</td>\n",
              "      <td>United-States</td>\n",
              "      <td>&lt;=50K</td>\n",
              "    </tr>\n",
              "    <tr>\n",
              "      <th>23881</th>\n",
              "      <td>25</td>\n",
              "      <td>Private</td>\n",
              "      <td>112847</td>\n",
              "      <td>HS-grad</td>\n",
              "      <td>9</td>\n",
              "      <td>Married-civ-spouse</td>\n",
              "      <td>Transport-moving</td>\n",
              "      <td>Own-child</td>\n",
              "      <td>Other</td>\n",
              "      <td>Male</td>\n",
              "      <td>0</td>\n",
              "      <td>0</td>\n",
              "      <td>40</td>\n",
              "      <td>United-States</td>\n",
              "      <td>&lt;=50K</td>\n",
              "    </tr>\n",
              "    <tr>\n",
              "      <th>30507</th>\n",
              "      <td>43</td>\n",
              "      <td>Private</td>\n",
              "      <td>170525</td>\n",
              "      <td>Bachelors</td>\n",
              "      <td>13</td>\n",
              "      <td>Divorced</td>\n",
              "      <td>Prof-specialty</td>\n",
              "      <td>Not-in-family</td>\n",
              "      <td>White</td>\n",
              "      <td>Female</td>\n",
              "      <td>14344</td>\n",
              "      <td>0</td>\n",
              "      <td>40</td>\n",
              "      <td>United-States</td>\n",
              "      <td>&gt;50K</td>\n",
              "    </tr>\n",
              "    <tr>\n",
              "      <th>28911</th>\n",
              "      <td>32</td>\n",
              "      <td>Private</td>\n",
              "      <td>186788</td>\n",
              "      <td>HS-grad</td>\n",
              "      <td>9</td>\n",
              "      <td>Married-civ-spouse</td>\n",
              "      <td>Transport-moving</td>\n",
              "      <td>Husband</td>\n",
              "      <td>White</td>\n",
              "      <td>Male</td>\n",
              "      <td>0</td>\n",
              "      <td>0</td>\n",
              "      <td>40</td>\n",
              "      <td>United-States</td>\n",
              "      <td>&lt;=50K</td>\n",
              "    </tr>\n",
              "    <tr>\n",
              "      <th>19484</th>\n",
              "      <td>39</td>\n",
              "      <td>Private</td>\n",
              "      <td>277886</td>\n",
              "      <td>Bachelors</td>\n",
              "      <td>13</td>\n",
              "      <td>Married-civ-spouse</td>\n",
              "      <td>Sales</td>\n",
              "      <td>Wife</td>\n",
              "      <td>White</td>\n",
              "      <td>Female</td>\n",
              "      <td>0</td>\n",
              "      <td>0</td>\n",
              "      <td>30</td>\n",
              "      <td>United-States</td>\n",
              "      <td>&lt;=50K</td>\n",
              "    </tr>\n",
              "  </tbody>\n",
              "</table>\n",
              "</div>\n",
              "      <button class=\"colab-df-convert\" onclick=\"convertToInteractive('df-c15e14b0-d621-4f34-8891-dd91a2cb0f52')\"\n",
              "              title=\"Convert this dataframe to an interactive table.\"\n",
              "              style=\"display:none;\">\n",
              "        \n",
              "  <svg xmlns=\"http://www.w3.org/2000/svg\" height=\"24px\"viewBox=\"0 0 24 24\"\n",
              "       width=\"24px\">\n",
              "    <path d=\"M0 0h24v24H0V0z\" fill=\"none\"/>\n",
              "    <path d=\"M18.56 5.44l.94 2.06.94-2.06 2.06-.94-2.06-.94-.94-2.06-.94 2.06-2.06.94zm-11 1L8.5 8.5l.94-2.06 2.06-.94-2.06-.94L8.5 2.5l-.94 2.06-2.06.94zm10 10l.94 2.06.94-2.06 2.06-.94-2.06-.94-.94-2.06-.94 2.06-2.06.94z\"/><path d=\"M17.41 7.96l-1.37-1.37c-.4-.4-.92-.59-1.43-.59-.52 0-1.04.2-1.43.59L10.3 9.45l-7.72 7.72c-.78.78-.78 2.05 0 2.83L4 21.41c.39.39.9.59 1.41.59.51 0 1.02-.2 1.41-.59l7.78-7.78 2.81-2.81c.8-.78.8-2.07 0-2.86zM5.41 20L4 18.59l7.72-7.72 1.47 1.35L5.41 20z\"/>\n",
              "  </svg>\n",
              "      </button>\n",
              "      \n",
              "  <style>\n",
              "    .colab-df-container {\n",
              "      display:flex;\n",
              "      flex-wrap:wrap;\n",
              "      gap: 12px;\n",
              "    }\n",
              "\n",
              "    .colab-df-convert {\n",
              "      background-color: #E8F0FE;\n",
              "      border: none;\n",
              "      border-radius: 50%;\n",
              "      cursor: pointer;\n",
              "      display: none;\n",
              "      fill: #1967D2;\n",
              "      height: 32px;\n",
              "      padding: 0 0 0 0;\n",
              "      width: 32px;\n",
              "    }\n",
              "\n",
              "    .colab-df-convert:hover {\n",
              "      background-color: #E2EBFA;\n",
              "      box-shadow: 0px 1px 2px rgba(60, 64, 67, 0.3), 0px 1px 3px 1px rgba(60, 64, 67, 0.15);\n",
              "      fill: #174EA6;\n",
              "    }\n",
              "\n",
              "    [theme=dark] .colab-df-convert {\n",
              "      background-color: #3B4455;\n",
              "      fill: #D2E3FC;\n",
              "    }\n",
              "\n",
              "    [theme=dark] .colab-df-convert:hover {\n",
              "      background-color: #434B5C;\n",
              "      box-shadow: 0px 1px 3px 1px rgba(0, 0, 0, 0.15);\n",
              "      filter: drop-shadow(0px 1px 2px rgba(0, 0, 0, 0.3));\n",
              "      fill: #FFFFFF;\n",
              "    }\n",
              "  </style>\n",
              "\n",
              "      <script>\n",
              "        const buttonEl =\n",
              "          document.querySelector('#df-c15e14b0-d621-4f34-8891-dd91a2cb0f52 button.colab-df-convert');\n",
              "        buttonEl.style.display =\n",
              "          google.colab.kernel.accessAllowed ? 'block' : 'none';\n",
              "\n",
              "        async function convertToInteractive(key) {\n",
              "          const element = document.querySelector('#df-c15e14b0-d621-4f34-8891-dd91a2cb0f52');\n",
              "          const dataTable =\n",
              "            await google.colab.kernel.invokeFunction('convertToInteractive',\n",
              "                                                     [key], {});\n",
              "          if (!dataTable) return;\n",
              "\n",
              "          const docLinkHtml = 'Like what you see? Visit the ' +\n",
              "            '<a target=\"_blank\" href=https://colab.research.google.com/notebooks/data_table.ipynb>data table notebook</a>'\n",
              "            + ' to learn more about interactive tables.';\n",
              "          element.innerHTML = '';\n",
              "          dataTable['output_type'] = 'display_data';\n",
              "          await google.colab.output.renderOutput(dataTable, element);\n",
              "          const docLink = document.createElement('div');\n",
              "          docLink.innerHTML = docLinkHtml;\n",
              "          element.appendChild(docLink);\n",
              "        }\n",
              "      </script>\n",
              "    </div>\n",
              "  </div>\n",
              "  "
            ]
          },
          "metadata": {},
          "execution_count": 12
        }
      ]
    },
    {
      "cell_type": "markdown",
      "source": [
        "# Implementing the Unfair Algorithms"
      ],
      "metadata": {
        "id": "4ZREWNA7aTQF"
      }
    },
    {
      "cell_type": "markdown",
      "source": [
        "K-center algorithm (2.2)\n",
        "\n",
        "Reference source: Geeks for Geeks "
      ],
      "metadata": {
        "id": "iSBR5n9Aczir"
      }
    },
    {
      "cell_type": "code",
      "source": [
        "def max_ind(dist, n):\n",
        "    start = 0\n",
        "    for i in range(n):\n",
        "        if (dist[i] > dist[start]):\n",
        "            start = i\n",
        "    return start\n",
        " \n",
        "def kcenter(n, dists_list, k):\n",
        "    '''\n",
        "    Args: \n",
        "        n: number of nodes\n",
        "        dists_list: distances between every pair of nodes\n",
        "        k: number of clusters\n",
        "    \n",
        "    ''' \n",
        "    dist = [0]*n\n",
        "    centers = []\n",
        "    for i in range(n):\n",
        "        dist[i] = 10**9\n",
        "    max_i = 0\n",
        "    for i in range(k):\n",
        "        centers.append(max_i)\n",
        "        for j in range(n):\n",
        "            dist[j] = min(dist[j], dists_list[max][j])\n",
        "        max = max_ind(dist, n)\n",
        "    print(dist[max])\n",
        "    for i in centers:\n",
        "        print(i, end = \" \")"
      ],
      "metadata": {
        "id": "1SZAz6b5cxTF"
      },
      "execution_count": null,
      "outputs": []
    },
    {
      "cell_type": "markdown",
      "source": [
        "K-median algorithm (9.2)\n",
        "\n",
        "Reference source: https://github.com/hmofrad/clustering/blob/master/kmedians.py"
      ],
      "metadata": {
        "id": "QsWr_0aESFv7"
      }
    },
    {
      "cell_type": "code",
      "source": [
        "import numpy as np\n",
        "import os\n",
        "\n",
        "FILE = '' #FILLER\n",
        "# Debug level\n",
        "VERBOSE = False\n",
        "\n",
        "def read(FILE):\n",
        "    if os.path.isfile(FILE):\n",
        "        file = open(FILE, 'r')\n",
        "        lines = tuple(file)\n",
        "        file.close()\n",
        "        data = []\n",
        "        for line in lines:\n",
        "            data.append(line.rstrip().split(\",\"))\n",
        "            if VERBOSE:\n",
        "                print(data[-1])\n",
        "            else:\n",
        "                print(FILE, 'does not exist')\n",
        "            exit(0)\n",
        "    \n",
        "    data = np.array(data)\n",
        "    x = data[:,0:-1]\n",
        "    x = x.astype(np.float)\n",
        "    \n",
        "    y = np.zeros(len(data))\n",
        "    uniq = np.unique(data[:,-1])\n",
        "    for i in range(0,len(uniq)):\n",
        "        idx = (data[:,-1] == uniq[i])\n",
        "        if any(idx):\n",
        "            y[idx] = i\n",
        "    return(x, y)\n",
        "\n",
        "[x, y] = read(FILE)"
      ],
      "metadata": {
        "id": "wy-TObjdSGXp"
      },
      "execution_count": null,
      "outputs": []
    },
    {
      "cell_type": "markdown",
      "source": [
        "K-mediods algorithm\n",
        "\n",
        "Reference: https://github.com/hmofrad/clustering/blob/master/kmedoids.py"
      ],
      "metadata": {
        "id": "A_4sXahVSJ9G"
      }
    },
    {
      "cell_type": "code",
      "source": [
        "import numpy as np\n",
        "np.random.seed()\n",
        "\n",
        "[x, y] = read(FILE)\n",
        "\n",
        "# Initliaze parameters\n",
        "[n, d] = np.shape(x)  # [#samples, #dimensions]\n",
        "k = len(np.unique(y)) #  #clusters\n",
        "\n",
        "\n",
        "# Calculate pairwise Euclidean distance\n",
        "dist = np.zeros((n,n))\n",
        "for i in range(n):\n",
        "    dist[i,:] = np.sqrt(np.sum(np.power(x[i,:] - x,2), axis=1))\n",
        "\n",
        "c = np.zeros(n) # Cluster assignment\n",
        "# Randomly pick k samples as\n",
        "# clusters center\n",
        "a = np.arange(n)\n",
        "np.random.shuffle(a)\n",
        "a = np.sort(a[0:k]) # Clusters center\n",
        "a_t = np.copy(a)    # Copy of cluster centers\n",
        "\n",
        "imax = 100\n",
        "for i in range(imax):\n",
        "   # Calculate cluster assignment \n",
        "   c = np.argmin(dist[:,a], axis=1)\n",
        "   # Update cluster assignment\n",
        "   for j in range(k):\n",
        "        aa = np.arange(n)\n",
        "        idx = aa[c == j] # Current cluster\n",
        "        \n",
        "        idxx = np.argmin(np.mean(dist[np.ix_(idx,idx)],axis=1))\n",
        "        a_t[j] = idx[idxx]\n",
        "        np.sort(a_t)\n",
        "        if np.array_equal(a, a_t):\n",
        "            break\n",
        "        a = np.copy(a_t)"
      ],
      "metadata": {
        "id": "RCTgSPK2SXdu"
      },
      "execution_count": null,
      "outputs": []
    }
  ]
}